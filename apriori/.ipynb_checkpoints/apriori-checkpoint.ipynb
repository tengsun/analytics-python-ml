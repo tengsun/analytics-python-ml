{
 "cells": [
  {
   "cell_type": "code",
   "execution_count": 17,
   "metadata": {},
   "outputs": [
    {
     "name": "stdout",
     "output_type": "stream",
     "text": [
      "[frozenset([1]), frozenset([3]), frozenset([2]), frozenset([5])]\n",
      "{frozenset([4]): 0.25, frozenset([5]): 0.75, frozenset([2]): 0.75, frozenset([3]): 0.75, frozenset([1]): 0.5}\n"
     ]
    }
   ],
   "source": [
    "def loadDataSet():\n",
    "\treturn map(set, [[1,3,4], [2,3,5], [1,2,3,5], [2,5]])\n",
    "\n",
    "# create collection of items with size = 1\n",
    "def createC1(dataSet):\n",
    "\tC1 = []\n",
    "\tfor tx in dataSet:\n",
    "\t\tfor item in tx:\n",
    "\t\t\tif not [item] in C1:\n",
    "\t\t\t\tC1.append([item])\n",
    "\tC1.sort()\n",
    "\treturn map(frozenset, C1)\n",
    "\n",
    "# scan dataSet with candidates, filter by minSupport\n",
    "def scanDataSet(dataSet, Ck, minSupport):\n",
    "\t# candidate count dictionary\n",
    "\tcanCount = {}\n",
    "\tfor tx in dataSet:\n",
    "\t\tfor can in Ck:\n",
    "\t\t\tif can.issubset(tx):\n",
    "\t\t\t\tif not canCount.has_key(can):\n",
    "\t\t\t\t\tcanCount[can] = 1\n",
    "\t\t\t\telse:\n",
    "\t\t\t\t\tcanCount[can] += 1\n",
    "\t\n",
    "\t# calculate support data and filter\n",
    "\tnumItems = float(len(dataSet))\n",
    "\tsupportList = []\n",
    "\tsupportData = {}\n",
    "\tfor key in canCount:\n",
    "\t\tsupport = canCount[key] / numItems\n",
    "\t\tif support >= minSupport:\n",
    "\t\t\tsupportList.insert(0, key)\n",
    "\t\tsupportData[key] = support\n",
    "\n",
    "\treturn supportList, supportData\n",
    "\n",
    "dataSet = loadDataSet()\n",
    "C1 = createC1(dataSet)\n",
    "suppList, suppData = scanDataSet(dataSet, C1, 0.5)\n",
    "# number 2,3,5 appear with ratio >= 50%\n",
    "print(suppList)\n",
    "print(suppData)"
   ]
  },
  {
   "cell_type": "code",
   "execution_count": 36,
   "metadata": {},
   "outputs": [
    {
     "name": "stdout",
     "output_type": "stream",
     "text": [
      "[[frozenset([3]), frozenset([2]), frozenset([5])], [frozenset([2, 5])], []]\n",
      "[]\n",
      "{frozenset([5]): 0.75, frozenset([3]): 0.75, frozenset([3, 5]): 0.5, frozenset([4]): 0.25, frozenset([2, 3]): 0.5, frozenset([2, 5]): 0.75, frozenset([1]): 0.5, frozenset([2]): 0.75}\n"
     ]
    }
   ],
   "source": [
    "# create Ck by Lk(frequent item sets) and k(set size)\n",
    "def aprioriGen(Lk, k):\n",
    "\tresultList = []\n",
    "\tlenLk = len(Lk)\n",
    "\tfor i in range(lenLk):\n",
    "\t\tfor j in range(i + 1, lenLk):\n",
    "\t\t\t# merge if the first k-2 items are same\n",
    "\t\t\tL1 = list(Lk[i])[:k - 2]\n",
    "\t\t\tL2 = list(Lk[j])[:k - 2]\n",
    "\t\t\tL1.sort()\n",
    "\t\t\tL2.sort()\n",
    "\t\t\t# print '%s | %s, k = %d, %s | %s' % (Lk[i], Lk[j], k, L1, L2)\n",
    "\t\t\tif L1 == L2:\n",
    "\t\t\t\tresultList.append(Lk[i] | Lk[j])\n",
    "\treturn resultList\n",
    "\n",
    "def apriori(dataSet, minSupport = 0.5):\n",
    "\tC1 = createC1(dataSet)\n",
    "\tL1, supportData = scanDataSet(dataSet, C1, minSupport)\n",
    "\tL = [L1]\n",
    "\tk = 2\n",
    "\t# C1->L1, C2->L2, ..., Ck->Lk\n",
    "\twhile (len(L[k - 2]) > 0):\n",
    "\t\tCk = aprioriGen(L[k - 2], k)\n",
    "\t\tLk, Sk = scanDataSet(dataSet, Ck, minSupport)\n",
    "\t\tsupportData.update(Sk)\n",
    "\t\tL.append(Lk)\n",
    "\t\tk += 1\n",
    "\treturn L, supportData\n",
    "\n",
    "suppList, suppData = apriori(dataSet, 0.7)\n",
    "print(suppList)\n",
    "print(aprioriGen(suppList[1], 2))\n",
    "print(suppData)"
   ]
  },
  {
   "cell_type": "code",
   "execution_count": 39,
   "metadata": {},
   "outputs": [
    {
     "name": "stdout",
     "output_type": "stream",
     "text": [
      "i = 1, freqSet = frozenset([2, 5]), H1 = [frozenset([2]), frozenset([5])]\n",
      "frozenset([5]) --> frozenset([2]) conf: 1.0\n",
      "frozenset([2]) --> frozenset([5]) conf: 1.0\n"
     ]
    }
   ],
   "source": [
    "# generate association rules by freqSet L and supportData\n",
    "def generateRules(L, supportData, minConf = 0.7):\n",
    "\truleList = []\n",
    "\t# can not gen rule with only one item, so starts from 1\n",
    "\tfor i in range(1, len(L)):\n",
    "\t\tfor freqSet in L[i]:\n",
    "\t\t\tH1 = [frozenset([item]) for item in freqSet]\n",
    "\t\t\tprint 'i = %d, freqSet = %s, H1 = %s' % (i, freqSet, H1)\n",
    "\t\t\tif (i > 1):\n",
    "\t\t\t\trulesFromConseq(freqSet, H1, supportData, ruleList, minConf)\n",
    "\t\t\telse:\n",
    "\t\t\t\tcalcConf(freqSet, H1, supportData, ruleList, minConf)\n",
    "\treturn ruleList\n",
    "\n",
    "def calcConf(freqSet, H, supportData, ruleList, minConf):\n",
    "\tprunedH = []\n",
    "\tfor conseq in H:\n",
    "\t\t# P -> H = support(P | H) / support(P)\n",
    "\t\tconf = supportData[freqSet] / supportData[freqSet - conseq]\n",
    "\t\tif conf >= minConf:\n",
    "\t\t\tprint freqSet - conseq, '-->', conseq, 'conf:', conf\n",
    "\t\t\truleList.append((freqSet - conseq, conseq, conf))\n",
    "\t\t\tprunedH.append(conseq)\n",
    "\treturn prunedH\n",
    "\n",
    "def rulesFromConseq(freqSet, H, supportData, ruleList, minConf):\n",
    "\tm = len(H[0])\n",
    "\tif (len(freqSet) > (m + 1)):\n",
    "\t\tHmp1 = aprioriGen(H, m + 1)\n",
    "\t\tHmp1 = calcConf(freqSet, Hmp1, supportData, ruleList, minConf)\n",
    "\t\tif (len(Hmp1) > 1):\n",
    "\t\t\trulesFromConseq(freqSet, Hmp1, supportData, ruleList, minConf)\n",
    "\n",
    "rules = generateRules(suppList, suppData, minConf=0.7)"
   ]
  }
 ],
 "metadata": {
  "kernelspec": {
   "display_name": "Python 2",
   "language": "python",
   "name": "python2"
  },
  "language_info": {
   "codemirror_mode": {
    "name": "ipython",
    "version": 2
   },
   "file_extension": ".py",
   "mimetype": "text/x-python",
   "name": "python",
   "nbconvert_exporter": "python",
   "pygments_lexer": "ipython2",
   "version": "2.7.14"
  }
 },
 "nbformat": 4,
 "nbformat_minor": 2
}
