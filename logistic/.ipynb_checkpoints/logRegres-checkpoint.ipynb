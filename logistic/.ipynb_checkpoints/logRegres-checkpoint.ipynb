{
 "cells": [
  {
   "cell_type": "code",
   "execution_count": 5,
   "metadata": {},
   "outputs": [
    {
     "name": "stdout",
     "output_type": "stream",
     "text": [
      "[[ 4.12414349]\n",
      " [ 0.48007329]\n",
      " [-0.6168482 ]]\n"
     ]
    }
   ],
   "source": [
    "import numpy as np\n",
    "\n",
    "# load sample data\n",
    "def loadDataSet():\n",
    "    dataMat = []\n",
    "    labelMat = []\n",
    "    file = open('data/testSet.txt')\n",
    "    for line in file.readlines():\n",
    "        # line content: x1 x2 label\n",
    "        dataArray = line.strip().split()\n",
    "        # set x0 = 1.0\n",
    "        dataMat.append([1.0, float(dataArray[0]), float(dataArray[1])])\n",
    "        labelMat.append(int(dataArray[2]))\n",
    "    return dataMat, labelMat\n",
    "\n",
    "# define sigmoid function\n",
    "def sigmoid(inX):\n",
    "    return 1.0 / (1 + np.exp(-inX))\n",
    "\n",
    "# gradient ascent function\n",
    "def gradAscent(dataMatIn, labelMatIn):\n",
    "    # convert to numpy matrix for transpose\n",
    "    dataMatrix = np.mat(dataMatIn)\n",
    "    labelMatrix = np.mat(labelMatIn).transpose()\n",
    "    m, n = np.shape(dataMatrix)\n",
    "    \n",
    "    # distance of each step\n",
    "    alpha = 0.001\n",
    "    # maximum iteration times\n",
    "    maxCycles = 500\n",
    "    # initialize weights vector\n",
    "    weights = np.ones((n, 1))\n",
    "    \n",
    "    for k in range(maxCycles):\n",
    "        # h is a column vector [m * 1] with values within (0, 1)\n",
    "        h = sigmoid(dataMatrix * weights)\n",
    "        \n",
    "        # calculate the diff between actual value and forecast value\n",
    "        # apply diff to x0, x1, x2 by multiple data matrix transpose\n",
    "        # then adjust the weights according to the direction of diff\n",
    "        diff = (labelMatrix - h)\n",
    "        \n",
    "        weights = weights + alpha * dataMatrix.transpose() * diff\n",
    "    \n",
    "    # convert matrix to array\n",
    "    return weights.getA()\n",
    "\n",
    "dataMat, labelMat = loadDataSet()\n",
    "weights = gradAscent(dataMat, labelMat)\n",
    "print weights"
   ]
  },
  {
   "cell_type": "code",
   "execution_count": 6,
   "metadata": {},
   "outputs": [
    {
     "data": {
      "image/png": "[encoded data removed]",
      "text/plain": [
       "<matplotlib.figure.Figure at 0x10e169750>"
      ]
     },
     "metadata": {},
     "output_type": "display_data"
    }
   ],
   "source": [
    "def plotBestFit(weights):\n",
    "    import matplotlib.pyplot as plt\n",
    "    dataMat, labelMat = loadDataSet()\n",
    "    dataArr = np.array(dataMat)\n",
    "    n = np.shape(dataArr)[0]\n",
    "    xcord1 = []; ycord1 = []\n",
    "    xcord2 = []; ycord2 = []\n",
    "    for i in range(n):\n",
    "        if int(labelMat[i]) == 1:\n",
    "            xcord1.append(dataArr[i, 1]); ycord1.append(dataArr[i, 2])\n",
    "        else:\n",
    "            xcord2.append(dataArr[i, 1]); ycord2.append(dataArr[i, 2])\n",
    "    fig = plt.figure()\n",
    "    ax = fig.add_subplot(111)\n",
    "    ax.scatter(xcord1, ycord1, s = 30, c = 'red', marker = 's')\n",
    "    ax.scatter(xcord2, ycord2, s = 30, c = 'green')\n",
    "    x = np.arange(-3.0, 3.0, 0.1)\n",
    "    \n",
    "    # z = w0 * x0 + w1 * x1 + w2 * x2, set z = 0 to draw divide line\n",
    "    y = (-weights[0] - weights[1] * x) / weights[2]\n",
    "    ax.plot(x, y)\n",
    "    plt.xlabel('X1'); plt.ylabel('X2')\n",
    "    plt.show()\n",
    "\n",
    "plotBestFit(weights)"
   ]
  },
  {
   "cell_type": "code",
   "execution_count": 19,
   "metadata": {},
   "outputs": [
    {
     "data": {
      "image/png": "[encoded data removed]",
      "text/plain": [
       "<matplotlib.figure.Figure at 0x117e8ff10>"
      ]
     },
     "metadata": {},
     "output_type": "display_data"
    }
   ],
   "source": [
    "# stochastic gradient ascent function\n",
    "def stochasticGradAscent(dataMatIn, labelMatIn, numIter = 150):\n",
    "    dataMatrix = np.array(dataMatIn)\n",
    "    labelMatrix = labelMatIn\n",
    "    m, n = np.shape(dataMatrix)\n",
    "    weights = np.ones(n)\n",
    "    \n",
    "    for j in range(numIter):\n",
    "        \n",
    "        dataIndex = range(m)\n",
    "        for i in range(m):\n",
    "            # reduce alpha's value as iteration goes on\n",
    "            #alpha = 0.01\n",
    "            alpha = 4 / (1.0 + j + i) + 0.01\n",
    "            \n",
    "            # pick data randomly from one row to adjust weights\n",
    "            randIndex = int(np.random.uniform(0, len(dataIndex)))\n",
    "            h = sigmoid(sum(dataMatrix[randIndex] * weights))\n",
    "            diff = labelMatrix[randIndex] - h\n",
    "            weights = weights + alpha * dataMatrix[randIndex] * diff\n",
    "            \n",
    "            # remove random index\n",
    "            del(dataIndex[randIndex])\n",
    "    return weights\n",
    "\n",
    "weights = stochasticGradAscent(dataMat, labelMat)\n",
    "plotBestFit(weights)"
   ]
  },
  {
   "cell_type": "code",
   "execution_count": 27,
   "metadata": {},
   "outputs": [
    {
     "name": "stderr",
     "output_type": "stream",
     "text": [
      "/Users/tengsun/anaconda2/lib/python2.7/site-packages/ipykernel_launcher.py:18: RuntimeWarning: overflow encountered in exp\n"
     ]
    },
    {
     "name": "stdout",
     "output_type": "stream",
     "text": [
      "the error rate of test is 0.358209\n",
      "the error rate of test is 0.343284\n",
      "the error rate of test is 0.238806\n",
      "the error rate of test is 0.268657\n",
      "the error rate of test is 0.402985\n",
      "the error rate of test is 0.328358\n",
      "the error rate of test is 0.402985\n",
      "the error rate of test is 0.522388\n",
      "the error rate of test is 0.522388\n",
      "the error rate of test is 0.447761\n",
      "after 10 iterations the average error rate is 0.383582\n"
     ]
    }
   ],
   "source": [
    "## estimating horse fatalities from colic\n",
    "\n",
    "def classifyVector(inX, weights):\n",
    "    prob = sigmoid(sum(inX * weights))\n",
    "    if prob > 0.5:\n",
    "        return 1.0\n",
    "    else:\n",
    "        return 0.0\n",
    "\n",
    "def colicTest():\n",
    "    frTrain = open('data/horse/horseColicTraining.txt')\n",
    "    frTest = open('data/horse/horseColicTest.txt')\n",
    "    \n",
    "    # prepare training set and labels\n",
    "    trainingSet = []\n",
    "    trainingLabels = []\n",
    "    for line in frTrain.readlines():\n",
    "        currLine = line.strip().split('\\t')\n",
    "        lineArr = []\n",
    "        numFeatures = len(currLine) - 1\n",
    "        for i in range(numFeatures):\n",
    "            lineArr.append(float(currLine[i]))\n",
    "        trainingSet.append(lineArr)\n",
    "        trainingLabels.append(float(currLine[numFeatures]))\n",
    "    \n",
    "    # calculate weights after training\n",
    "    weights = stochasticGradAscent(trainingSet, trainingLabels, 500)\n",
    "    \n",
    "    errCount = 0\n",
    "    numTest = 0.0\n",
    "    for line in frTest.readlines():\n",
    "        numTest += 1.0\n",
    "        currLine = line.strip().split('\\t')\n",
    "        lineArr = []\n",
    "        numFeatures = len(currLine) - 1\n",
    "        for i in range(numFeatures):\n",
    "            lineArr.append(float(currLine[i]))\n",
    "        \n",
    "        # compare classify result and actual value\n",
    "        classifyResult = classifyVector(lineArr, weights)\n",
    "        if (int(classifyResult) != int(currLine[numFeatures])):\n",
    "            errCount += 1\n",
    "    \n",
    "    errRate = float(errCount) / numTest\n",
    "    print 'the error rate of test is %f' % errRate\n",
    "    return errRate\n",
    "\n",
    "def multiTest():\n",
    "    numTests = 10\n",
    "    errorSum = 0.0\n",
    "    for k in range(numTests):\n",
    "        errorSum += colicTest()\n",
    "    print 'after %d iterations the average error rate is %f' \\\n",
    "        % (numTests, errorSum / float(numTests))\n",
    "\n",
    "#colicTest()\n",
    "multiTest()"
   ]
  }
 ],
 "metadata": {
  "kernelspec": {
   "display_name": "Python 2",
   "language": "python",
   "name": "python2"
  },
  "language_info": {
   "codemirror_mode": {
    "name": "ipython",
    "version": 2
   },
   "file_extension": ".py",
   "mimetype": "text/x-python",
   "name": "python",
   "nbconvert_exporter": "python",
   "pygments_lexer": "ipython2",
   "version": "2.7.14"
  }
 },
 "nbformat": 4,
 "nbformat_minor": 2
}
