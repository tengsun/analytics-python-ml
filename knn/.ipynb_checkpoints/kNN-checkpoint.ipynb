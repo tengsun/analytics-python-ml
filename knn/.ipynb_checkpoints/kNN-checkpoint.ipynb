{
 "cells": [
  {
   "cell_type": "code",
   "execution_count": 23,
   "metadata": {
    "scrolled": true
   },
   "outputs": [
    {
     "data": {
      "text/plain": [
       "'B'"
      ]
     },
     "execution_count": 23,
     "metadata": {},
     "output_type": "execute_result"
    }
   ],
   "source": [
    "from numpy import *\n",
    "from os import listdir\n",
    "import operator\n",
    "\n",
    "# sample data set\n",
    "def createDataSet():\n",
    "\tgroup = array([[1.0, 1.1], [1.0, 1.0], [0, 0], [0, 0.1]])\n",
    "\tlabels = ['A', 'A', 'B', 'B']\n",
    "\treturn group, labels\n",
    "\n",
    "# inX - input x to be classified\n",
    "# dataSet - training sample data\n",
    "# labels - training classify labels\n",
    "# k - number of neighbors\n",
    "def classify0(inX, dataSet, labels, k):\n",
    "\tdataSetSize = dataSet.shape[0]\n",
    "\tdiffMat = tile(inX, (dataSetSize, 1)) - dataSet\n",
    "\tsqDiffMat = diffMat ** 2\n",
    "\tsqDists = sqDiffMat.sum(axis = 1)\n",
    "\tdists = sqDists ** 0.5\n",
    "# \tprint dists\n",
    "\n",
    "\t# get indices of sorted distance\n",
    "\tsortedDistIndices = dists.argsort()\n",
    "# \tprint sortedDistIndices\n",
    "# \tprint labels\n",
    "\tclassCountDict = {}\n",
    "\tfor i in range(k):\n",
    "\t\tvoteLabel = labels[sortedDistIndices[i]]\n",
    "\t\tclassCountDict[voteLabel] = classCountDict.get(voteLabel, 0) + 1\n",
    "\tsortedClassCount = sorted(classCountDict.iteritems(), \n",
    "\t\tkey = operator.itemgetter(1), reverse = True)\n",
    "# \tprint sortedClassCount\n",
    "\treturn sortedClassCount[0][0]\n",
    "\n",
    "dataSet, labels = createDataSet()\n",
    "classify0([0.5, 0.5], dataSet, labels, 3)"
   ]
  },
  {
   "cell_type": "code",
   "execution_count": 30,
   "metadata": {
    "scrolled": true
   },
   "outputs": [
    {
     "name": "stdout",
     "output_type": "stream",
     "text": [
      "frequent flier miles earned per year?40000\n",
      "percentage of time spent playing video games?10\n",
      "liters of ice cream consumed per year?2\n",
      "you will probably like this person: in large doses\n"
     ]
    }
   ],
   "source": [
    "### for dating test case\n",
    "def file2matrix(filename):\n",
    "\tfr = open(filename)\n",
    "\tlines = fr.readlines()\n",
    "\tnumOfLines = len(lines)\n",
    "\treturnMat = zeros((numOfLines, 3))\n",
    "\tlabelVector = []\n",
    "\tindex = 0\n",
    "\tfor line in lines:\n",
    "\t\tline = line.strip()\n",
    "\t\tlistFromLine = line.split('\\t')\n",
    "\t\treturnMat[index, :] = listFromLine[0:3]\n",
    "\t\tlabelVector.append(int(listFromLine[-1]))\n",
    "\t\tindex += 1\n",
    "\treturn returnMat, labelVector\n",
    "\n",
    "# normalize digit values\n",
    "def autoNorm(dataSet):\n",
    "\tminVals = dataSet.min(0)\n",
    "\tmaxVals = dataSet.max(0)\n",
    "\tranges = maxVals - minVals\n",
    "\tnormDataSet = zeros(shape(dataSet))\n",
    "\tm = dataSet.shape[0]\n",
    "\tnormDataSet = dataSet - tile(minVals, (m, 1))\n",
    "\tnormDataSet = normDataSet / tile(ranges, (m, 1))\n",
    "\treturn normDataSet, ranges, minVals\n",
    "\n",
    "# dating data test code\n",
    "def datingClassTest():\n",
    "\thoRatio = 0.10\n",
    "\tdatingMat, datingLabels = file2matrix('data/datingTestSet2.txt')\n",
    "\tnormMat, ranges, minVals = autoNorm(datingMat)\n",
    "\tm = normMat.shape[0]\n",
    "\tnumTestVectors = int(m * hoRatio)\n",
    "\terrorCount = 0.0\n",
    "\tfor i in range(numTestVectors):\n",
    "\t\tclassifierResult = classify0(normMat[i, :], normMat[numTestVectors:m, :], \\\n",
    "\t\t\tdatingLabels[numTestVectors:m], 3)\n",
    "\t\tif (classifierResult != datingLabels[i]):\n",
    "\t\t\terrorCount += 1.0\n",
    "\t\t\tprint \"[%d]: the classifier came back with: %d, the real answer is: %d\" \\\n",
    "\t\t\t\t%(i, classifierResult, datingLabels[i])\n",
    "# \t\telse:\n",
    "# \t\t\tprint \"[%d]: the classification is correct\" %(i)\n",
    "\tprint \"the total error rate is: %f\" %(errorCount / float(numTestVectors))\n",
    "\n",
    "# input dating data forecast\n",
    "def classifyPerson():\n",
    "\tresultList = ['not at all', 'in small doses', 'in large doses']\n",
    "\tflyingMiles = float(raw_input(\"frequent flier miles earned per year?\"))\n",
    "\tvideoGames = float(raw_input(\"percentage of time spent playing video games?\"))\n",
    "\ticeCream = float(raw_input(\"liters of ice cream consumed per year?\"))\n",
    "    \n",
    "\tdatingMat, datingLabels = file2matrix('data/datingTestSet2.txt')\n",
    "# \tprint datingMat[0], datingLabels[0]\n",
    "\tnormMat, ranges, minVals = autoNorm(datingMat)\n",
    "# \tprint normMat[0], ranges, minVals\n",
    "\tinArray = array([flyingMiles, videoGames, iceCream])\n",
    "\tclassifierResult = classify0((inArray - minVals) / ranges, normMat, datingLabels, 3)\n",
    "\tprint \"you will probably like this person:\", resultList[classifierResult - 1]\n",
    "\n",
    "classifyPerson()\n",
    "# datingClassTest()"
   ]
  },
  {
   "cell_type": "code",
   "execution_count": 29,
   "metadata": {
    "scrolled": false
   },
   "outputs": [
    {
     "name": "stdout",
     "output_type": "stream",
     "text": [
      "the classifier said: 1, the answer is: 8 in file [8_36.txt]\n",
      "the classifier said: 3, the answer is: 8 in file [8_23.txt]\n",
      "the classifier said: 7, the answer is: 9 in file [9_60.txt]\n",
      "the classifier said: 9, the answer is: 3 in file [3_11.txt]\n",
      "the classifier said: 1, the answer is: 8 in file [8_68.txt]\n",
      "the classifier said: 1, the answer is: 9 in file [9_14.txt]\n",
      "the classifier said: 1, the answer is: 8 in file [8_45.txt]\n",
      "the classifier said: 9, the answer is: 3 in file [3_55.txt]\n",
      "the classifier said: 7, the answer is: 1 in file [1_86.txt]\n",
      "the classifier said: 6, the answer is: 5 in file [5_43.txt]\n",
      "the classifier said: 3, the answer is: 5 in file [5_42.txt]\n",
      "the classifier said: 6, the answer is: 8 in file [8_11.txt]\n",
      "the total number of errors is: 12\n",
      "the total error rate is: 0.012685\n"
     ]
    }
   ],
   "source": [
    "## hand-writing number recognition\n",
    "\n",
    "def img2vector(filename):\n",
    "\tlineVector = zeros((1, 1024))\n",
    "\tfr = open(filename)\n",
    "\tfor i in range(32):\n",
    "\t\tlineString = fr.readline()\n",
    "\t\tfor j in range(32):\n",
    "\t\t\tlineVector[0, 32 * i + j] = int(lineString[j])\n",
    "\treturn lineVector\n",
    "\n",
    "def handwritingNumberTest():\n",
    "\t# prepare number labels and training data\n",
    "\tnumberLabels = []\n",
    "\ttrainingFileList = listdir('data/digits/trainingDigits')\n",
    "\tm = len(trainingFileList)\n",
    "\ttrainingMat = zeros((m, 1024))\n",
    "\t\n",
    "\tfor i in range(m):\n",
    "\t\tfilename = trainingFileList[i]\n",
    "\t\tif filename.find('.') != -1:\n",
    "\t\t\tfileString = filename.split('.')[0]\n",
    "\t\t\tnumberValue = int(fileString.split('_')[0])\n",
    "\t\t\t\n",
    "\t\t\tnumberLabels.append(numberValue)\n",
    "\t\t\ttrainingMat[i, :] = img2vector('data/digits/trainingDigits/%s' %filename)\n",
    "\t\telse:\n",
    "\t\t\tprint 'invalid file name: ' + filename\n",
    "\t\n",
    "\t# prepare test data\n",
    "\ttestFileList = listdir('data/digits/testDigits')\n",
    "\terrorCount = 0.0\n",
    "\tmTest = len(testFileList)\n",
    "\t\n",
    "\tfor i in range(mTest):\n",
    "\t\tfilename = testFileList[i]\n",
    "\t\tif filename.find('.') != -1:\n",
    "\t\t\tfileString = filename.split('.')[0]\n",
    "\t\t\tnumberValue = int(fileString.split('_')[0])\n",
    "\t\t\t\n",
    "\t\t\t# compare test result and actual value\n",
    "\t\t\tvectorToTest = img2vector('data/digits/testDigits/%s' %filename)\n",
    "\t\t\tclassifierResult = classify0(vectorToTest, trainingMat, numberLabels, 3)\n",
    "\t\t\tif classifierResult != numberValue:\n",
    "\t\t\t\terrorCount += 1.0\n",
    "\t\t\t\tprint 'the classifier said: %d, the answer is: %d in file [%s]' \\\n",
    "\t\t\t\t\t% (classifierResult, numberValue, filename)\n",
    "\t\t\t\n",
    "\t\telse:\n",
    "\t\t\tprint 'invalid file name: ' + filename\n",
    "\t\n",
    "\tprint 'the total number of errors is: %d' %errorCount\n",
    "\tprint 'the total error rate is: %f' %(errorCount / float(mTest))\n",
    "\n",
    "handwritingNumberTest()"
   ]
  }
 ],
 "metadata": {
  "kernelspec": {
   "display_name": "Python 2",
   "language": "python",
   "name": "python2"
  },
  "language_info": {
   "codemirror_mode": {
    "name": "ipython",
    "version": 2
   },
   "file_extension": ".py",
   "mimetype": "text/x-python",
   "name": "python",
   "nbconvert_exporter": "python",
   "pygments_lexer": "ipython2",
   "version": "2.7.14"
  }
 },
 "nbformat": 4,
 "nbformat_minor": 2
}
